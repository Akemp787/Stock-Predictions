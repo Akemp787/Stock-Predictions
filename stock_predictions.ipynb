{
 "cells": [
  {
   "cell_type": "markdown",
   "id": "f127e2b9",
   "metadata": {},
   "source": [
    "# Stock Predictions"
   ]
  },
  {
   "cell_type": "code",
   "execution_count": 75,
   "id": "eb948250",
   "metadata": {},
   "outputs": [],
   "source": [
    "# Cell 1: Import necessary libraries\n",
    "import requests\n",
    "import numpy as np\n",
    "import pandas as pd\n",
    "import matplotlib.pyplot as plt\n",
    "from sklearn.linear_model import LinearRegression\n",
    "from sklearn.model_selection import train_test_split\n",
    "from sklearn.metrics import mean_absolute_error\n",
    "from tkinter import *\n",
    "from tkinter import ttk\n"
   ]
  },
  {
   "cell_type": "code",
   "execution_count": 70,
   "id": "ec88eb52",
   "metadata": {},
   "outputs": [],
   "source": [
    "# Cell 2: Define functions for fetching and preparing historical data\n",
    "def fetch_historical_data(symbol, api_key):\n",
    "    url = f'https://www.alphavantage.co/query?function=TIME_SERIES_DAILY&symbol={symbol}&apikey={api_key}'\n",
    "    response = requests.get(url)\n",
    "    data = response.json()\n",
    "    if 'Time Series (Daily)' in data:\n",
    "        return data['Time Series (Daily)']\n",
    "    else:\n",
    "        return None\n",
    "\n",
    "def prepare_historical_data(historical_data):\n",
    "    dates = []\n",
    "    close_prices = []\n",
    "    for date, values in historical_data.items():\n",
    "        dates.append(date)\n",
    "        close_prices.append(float(values['4. close']))\n",
    "    return pd.Series(close_prices, index=pd.to_datetime(dates))\n"
   ]
  },
  {
   "cell_type": "code",
   "execution_count": 71,
   "id": "01c3e4f7",
   "metadata": {},
   "outputs": [],
   "source": [
    "# Cell 3: Define functions for resampling data, training model, generating predictions, and plotting\n",
    "def resample_data(historical_data, interval):\n",
    "    return historical_data.resample(interval).agg({'4. close': 'ohlc'})\n",
    "\n",
    "def train_model(X, y):\n",
    "    model = LinearRegression()\n",
    "    model.fit(X, y)\n",
    "    return model\n",
    "\n",
    "def generate_predictions(model, X):\n",
    "    return model.predict(X)\n",
    "\n",
    "def plot_predictions(predictions, title):\n",
    "    plt.figure(figsize=(10, 6))\n",
    "    plt.plot(predictions.index, predictions['actual'], label='Actual Close Price', color='blue')\n",
    "    plt.plot(predictions.index, predictions['predicted'], label='Predicted Close Price', color='red', linestyle='--')\n",
    "    plt.title(title)\n",
    "    plt.xlabel('Date')\n",
    "    plt.ylabel('Close Price')\n",
    "    plt.legend()\n",
    "    plt.show()\n"
   ]
  },
  {
   "cell_type": "code",
   "execution_count": 72,
   "id": "6e38bb7c",
   "metadata": {},
   "outputs": [],
   "source": [
    "# Cell 4: Main function to interact with user interface\n",
    "def main():\n",
    "    def predict():\n",
    "        interval = interval_var.get()\n",
    "        api_key = api_key_entry.get()\n",
    "        symbol = symbol_entry.get()\n",
    "\n",
    "        historical_data = fetch_historical_data(symbol, api_key)\n",
    "        if historical_data:\n",
    "            historical_series = prepare_historical_data(historical_data)\n",
    "            resampled_data = resample_data(historical_series, interval)\n",
    "\n",
    "            X = np.arange(len(resampled_data)).reshape(-1, 1)\n",
    "            y = resampled_data['close']\n",
    "\n",
    "            model = train_model(X, y)\n",
    "            predictions = generate_predictions(model, X)\n",
    "\n",
    "            plot_predictions(pd.DataFrame({'actual': y, 'predicted': predictions}, index=resampled_data.index), f'Close Prices for {symbol}')\n",
    "\n",
    "        else:\n",
    "            messagebox.showerror(\"Error\", \"Unable to fetch historical data.\")\n",
    "\n",
    "    root = Tk()\n",
    "    root.title(\"Stock Price Prediction\")\n",
    "\n",
    "    # API Key Entry\n",
    "    api_key_label = Label(root, text=\"Enter API Key:\")\n",
    "    api_key_label.grid(row=0, column=0)\n",
    "    api_key_entry = Entry(root)\n",
    "    api_key_entry.grid(row=0, column=1)\n",
    "\n",
    "    # Stock Symbol Entry\n",
    "    symbol_label = Label(root, text=\"Enter Stock Symbol:\")\n",
    "    symbol_label.grid(row=1, column=0)\n",
    "    symbol_entry = Entry(root)\n",
    "    symbol_entry.grid(row=1, column=1)\n",
    "\n",
    "    # Interval Selection\n",
    "    interval_label = Label(root, text=\"Select Prediction Interval:\")\n",
    "    interval_label.grid(row=2, column=0)\n",
    "    interval_var = StringVar()\n",
    "    interval_dropdown = ttk.Combobox(root, textvariable=interval_var)\n",
    "    interval_dropdown['values'] = ('1D', '5D', '1W', '1M')\n",
    "    interval_dropdown.grid(row=2, column=1)\n",
    "\n",
    "    # Predict Button\n",
    "    predict_button = Button(root, text=\"Predict\", command=predict)\n",
    "    predict_button.grid(row=3, column=0, columnspan=2)\n",
    "\n",
    "    root.mainloop()\n",
    "\n",
    "if __name__ == \"__main__\":\n",
    "    main()\n"
   ]
  },
  {
   "cell_type": "code",
   "execution_count": null,
   "id": "60222fa7",
   "metadata": {},
   "outputs": [],
   "source": []
  }
 ],
 "metadata": {
  "kernelspec": {
   "display_name": "Python 3 (ipykernel)",
   "language": "python",
   "name": "python3"
  },
  "language_info": {
   "codemirror_mode": {
    "name": "ipython",
    "version": 3
   },
   "file_extension": ".py",
   "mimetype": "text/x-python",
   "name": "python",
   "nbconvert_exporter": "python",
   "pygments_lexer": "ipython3",
   "version": "3.10.13"
  }
 },
 "nbformat": 4,
 "nbformat_minor": 5
}
