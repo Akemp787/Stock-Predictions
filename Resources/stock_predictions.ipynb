{
 "cells": [
  {
   "cell_type": "markdown",
   "id": "aaad6738",
   "metadata": {},
   "source": [
    "# API Calling\n"
   ]
  },
  {
   "cell_type": "code",
   "execution_count": 13,
   "id": "2cf1e2b4",
   "metadata": {},
   "outputs": [],
   "source": [
    "import requests\n",
    "import pandas as pd"
   ]
  },
  {
   "cell_type": "code",
   "execution_count": 16,
   "id": "7e46b839",
   "metadata": {},
   "outputs": [
    {
     "name": "stdout",
     "output_type": "stream",
     "text": [
      "Stock Name: AAPL\n",
      "Current Price: 176.5500\n",
      "Change Percent: 0.8627%\n"
     ]
    }
   ],
   "source": [
    "# Define API key\n",
    "API_KEY = '830AMMVXD45JAVI4'\n",
    "\n",
    "# Define the symbol for Apple stock \n",
    "symbol = 'AAPL'\n",
    "\n",
    "# Define the API endpoint URL\n",
    "url = f'https://www.alphavantage.co/query?function=GLOBAL_QUOTE&symbol={symbol}&apikey={API_KEY}'\n",
    "\n",
    "# Check if the request was successful (status code 200)\n",
    "if response.status_code == 200:\n",
    "    # Parse JSON response\n",
    "    data = response.json()\n",
    "    \n",
    "    # Check if data contains error message\n",
    "    if 'Error Message' in data:\n",
    "        print(\"Error:\", data['Error Message'])\n",
    "    else:\n",
    "        # Extract stock name\n",
    "        stock_name = data['Global Quote']['01. symbol']\n",
    "        \n",
    "        # Extract relevant information from the response\n",
    "        if 'Global Quote' in data:\n",
    "            global_quote = data['Global Quote']\n",
    "            # Extract the current stock price and other relevant information\n",
    "            current_price = global_quote['05. price']\n",
    "            change_percent = global_quote['10. change percent']\n",
    "            \n",
    "            # Print the stock name, current price, and change percent\n",
    "            print(f\"Stock Name: {stock_name}\")\n",
    "            print(f\"Current Price: {current_price}\")\n",
    "            print(f\"Change Percent: {change_percent}\")\n",
    "        else:\n",
    "            print(\"Error: Unable to fetch data.\")\n",
    "else:\n",
    "    print(f\"Error: Unable to fetch data. Status Code: {response.status_code}\")"
   ]
  },
  {
   "cell_type": "code",
   "execution_count": null,
   "id": "1e48b8cb",
   "metadata": {},
   "outputs": [],
   "source": [
    "# Load historical stock price data into a DataFrame\n",
    "# Replace this with your actual data loading code\n",
    "# For example, you can use Alpha Vantage API to fetch historical data\n",
    "# df = load_historical_data(symbol='AAPL', start_date='2020-01-01', end_date='2021-12-31')\n",
    "\n",
    "# Example DataFrame (replace with your actual data)\n",
    "data = {\n",
    "    'Date': ['2020-01-01', '2020-01-02', '2020-01-03', '2020-01-06', '2020-01-07'],\n",
    "    'Close': [100.0, 101.0, 102.0, 103.0, 104.0],\n",
    "    'Volume': [1000000, 1100000, 1200000, 1300000, 1400000]\n",
    "}\n",
    "df = pd.DataFrame(data)\n",
    "\n",
    "# Convert 'Date' column to datetime format\n",
    "df['Date'] = pd.to_datetime(df['Date'])\n",
    "\n",
    "# Calculate simple moving averages (SMA) over different time periods\n",
    "df['SMA_10'] = df['Close'].rolling(window=10).mean()\n",
    "df['SMA_50'] = df['Close'].rolling(window=50).mean()\n",
    "df['SMA_200'] = df['Close'].rolling(window=200).mean()\n",
    "\n",
    "# Calculate exponential moving averages (EMA) over different time periods\n",
    "df['EMA_10'] = df['Close'].ewm(span=10, min_periods=10, adjust=False).mean()\n",
    "df['EMA_50'] = df['Close'].ewm(span=50, min_periods=50, adjust=False).mean()\n",
    "df['EMA_200'] = df['Close'].ewm(span=200, min_periods=200, adjust=False).mean()\n",
    "\n",
    "# Calculate relative strength index (RSI)\n",
    "delta = df['Close'].diff()\n",
    "gain = (delta.where(delta > 0, 0)).rolling(window=14).mean()\n",
    "loss = (-delta.where(delta < 0, 0)).rolling(window=14).mean()\n",
    "rs = gain / loss\n",
    "rsi = 100 - (100 / (1 + rs))\n",
    "df['RSI'] = rsi\n",
    "\n",
    "# Calculate volume moving averages\n",
    "df['Volume_SMA_10'] = df['Volume'].rolling(window=10).mean()\n",
    "df['Volume_SMA_50'] = df['Volume'].rolling(window=50).mean()\n",
    "\n",
    "# Calculate percentage change from the previous day's closing price\n",
    "df['Price_Change'] = df['Close'].pct_change()\n",
    "\n",
    "# Display the DataFrame with added features\n",
    "print(df)"
   ]
  }
 ],
 "metadata": {
  "kernelspec": {
   "display_name": "Python 3 (ipykernel)",
   "language": "python",
   "name": "python3"
  },
  "language_info": {
   "codemirror_mode": {
    "name": "ipython",
    "version": 3
   },
   "file_extension": ".py",
   "mimetype": "text/x-python",
   "name": "python",
   "nbconvert_exporter": "python",
   "pygments_lexer": "ipython3",
   "version": "3.10.13"
  }
 },
 "nbformat": 4,
 "nbformat_minor": 5
}
